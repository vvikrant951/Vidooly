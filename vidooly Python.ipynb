{
 "cells": [
  {
   "cell_type": "code",
   "execution_count": 206,
   "metadata": {},
   "outputs": [],
   "source": [
    "############importing libraries#############\n",
    "import os\n",
    "import pandas as pd\n",
    "import numpy as np  \n",
    "import matplotlib.pyplot as plt\n",
    "from scipy.stats import chi2_contingency\n",
    "import seaborn as sns\n",
    "from random import randrange, uniform\n",
    "import datetime\n",
    "import datetime as dt\n",
    "from sklearn.cross_validation import train_test_split\n",
    "from sklearn.tree import DecisionTreeRegressor\n",
    "import statsmodels.api as sm\n",
    "from sklearn.ensemble import RandomForestRegressor\n",
    "from  matplotlib import pyplot \n",
    "from fancyimpute import KNN "
   ]
  },
  {
   "cell_type": "code",
   "execution_count": 207,
   "metadata": {},
   "outputs": [],
   "source": [
    "############working directory#################\n",
    "os.chdir(\"E:\\python learning\")"
   ]
  },
  {
   "cell_type": "code",
   "execution_count": 208,
   "metadata": {},
   "outputs": [],
   "source": [
    "###########loading dataset####################\n",
    "data = pd.read_csv(\"ad_org_train.csv\")"
   ]
  },
  {
   "cell_type": "code",
   "execution_count": 209,
   "metadata": {},
   "outputs": [
    {
     "data": {
      "text/plain": [
       "vidid        object\n",
       "adview        int64\n",
       "views        object\n",
       "likes        object\n",
       "dislikes     object\n",
       "comment      object\n",
       "published    object\n",
       "duration     object\n",
       "category     object\n",
       "dtype: object"
      ]
     },
     "execution_count": 209,
     "metadata": {},
     "output_type": "execute_result"
    }
   ],
   "source": [
    "data.dtypes"
   ]
  },
  {
   "cell_type": "code",
   "execution_count": 210,
   "metadata": {},
   "outputs": [],
   "source": [
    "data.views=pd.to_numeric(data.views,errors='coerce')\n",
    "data.likes=pd.to_numeric(data.likes,errors='coerce')\n",
    "data.dislikes=pd.to_numeric(data.dislikes,errors='coerce')\n",
    "data.comment=pd.to_numeric(data.comment,errors='coerce')\n",
    "data['category']=data['category'].astype('category')\n",
    "d1=data['published'].copy()\n",
    "for i in range (0,d1.shape[0]):\n",
    "    d1[i]=datetime.datetime.strptime(d1[i], '%Y-%m-%d').strftime('%d')\n",
    "data['day'] =d1   \n",
    "data['day']=data['day'].astype('category')\n",
    "\n",
    "d2=data['published'].copy()\n",
    "for i in range (0,d2.shape[0]):\n",
    "    d2[i]=datetime.datetime.strptime(d2[i], '%Y-%m-%d').strftime('%m')\n",
    "data['month'] =d2\n",
    "data['month']=data['month'].astype('category')\n",
    "\n",
    "d3=data['published'].copy()\n",
    "for i in range (0,d3.shape[0]):\n",
    "    d3[i]=datetime.datetime.strptime(d3[i], '%Y-%m-%d').strftime('%Y')\n",
    "data['year'] =d3\n",
    "data['year']=data['year'].astype('category')\n"
   ]
  },
  {
   "cell_type": "code",
   "execution_count": 211,
   "metadata": {},
   "outputs": [],
   "source": [
    "missing_val = pd.DataFrame(data.isnull().sum())"
   ]
  },
  {
   "cell_type": "code",
   "execution_count": 212,
   "metadata": {},
   "outputs": [
    {
     "data": {
      "text/html": [
       "<div>\n",
       "<style scoped>\n",
       "    .dataframe tbody tr th:only-of-type {\n",
       "        vertical-align: middle;\n",
       "    }\n",
       "\n",
       "    .dataframe tbody tr th {\n",
       "        vertical-align: top;\n",
       "    }\n",
       "\n",
       "    .dataframe thead th {\n",
       "        text-align: right;\n",
       "    }\n",
       "</style>\n",
       "<table border=\"1\" class=\"dataframe\">\n",
       "  <thead>\n",
       "    <tr style=\"text-align: right;\">\n",
       "      <th></th>\n",
       "      <th>0</th>\n",
       "    </tr>\n",
       "  </thead>\n",
       "  <tbody>\n",
       "    <tr>\n",
       "      <th>vidid</th>\n",
       "      <td>0</td>\n",
       "    </tr>\n",
       "    <tr>\n",
       "      <th>adview</th>\n",
       "      <td>0</td>\n",
       "    </tr>\n",
       "    <tr>\n",
       "      <th>views</th>\n",
       "      <td>2</td>\n",
       "    </tr>\n",
       "    <tr>\n",
       "      <th>likes</th>\n",
       "      <td>155</td>\n",
       "    </tr>\n",
       "    <tr>\n",
       "      <th>dislikes</th>\n",
       "      <td>155</td>\n",
       "    </tr>\n",
       "    <tr>\n",
       "      <th>comment</th>\n",
       "      <td>233</td>\n",
       "    </tr>\n",
       "    <tr>\n",
       "      <th>published</th>\n",
       "      <td>0</td>\n",
       "    </tr>\n",
       "    <tr>\n",
       "      <th>duration</th>\n",
       "      <td>0</td>\n",
       "    </tr>\n",
       "    <tr>\n",
       "      <th>category</th>\n",
       "      <td>0</td>\n",
       "    </tr>\n",
       "    <tr>\n",
       "      <th>day</th>\n",
       "      <td>0</td>\n",
       "    </tr>\n",
       "    <tr>\n",
       "      <th>month</th>\n",
       "      <td>0</td>\n",
       "    </tr>\n",
       "    <tr>\n",
       "      <th>year</th>\n",
       "      <td>0</td>\n",
       "    </tr>\n",
       "  </tbody>\n",
       "</table>\n",
       "</div>"
      ],
      "text/plain": [
       "             0\n",
       "vidid        0\n",
       "adview       0\n",
       "views        2\n",
       "likes      155\n",
       "dislikes   155\n",
       "comment    233\n",
       "published    0\n",
       "duration     0\n",
       "category     0\n",
       "day          0\n",
       "month        0\n",
       "year         0"
      ]
     },
     "execution_count": 212,
     "metadata": {},
     "output_type": "execute_result"
    }
   ],
   "source": [
    "missing_val"
   ]
  },
  {
   "cell_type": "code",
   "execution_count": 213,
   "metadata": {},
   "outputs": [],
   "source": [
    "data = data.fillna(data.mean())\n"
   ]
  },
  {
   "cell_type": "code",
   "execution_count": 214,
   "metadata": {},
   "outputs": [
    {
     "name": "stdout",
     "output_type": "stream",
     "text": [
      "views\n",
      "likes\n",
      "dislikes\n",
      "comment\n"
     ]
    }
   ],
   "source": [
    "###normalization######\n",
    "cnames = [\"views\",\"likes\",\"dislikes\",\"comment\"]\n",
    "for i in cnames:\n",
    "    print(i)\n",
    "    data[i] = (data[i] - min(data[i]))/(max(data[i]) - min(data[i]))"
   ]
  },
  {
   "cell_type": "code",
   "execution_count": 215,
   "metadata": {},
   "outputs": [],
   "source": [
    "cat_names = [\"category\"]\n",
    "for i in cat_names:\n",
    "    temp = pd.get_dummies(data[i], prefix = i)\n",
    "    data = data.join(temp)\n"
   ]
  },
  {
   "cell_type": "code",
   "execution_count": 216,
   "metadata": {},
   "outputs": [],
   "source": [
    "data = data.drop(['vidid','published','duration','category'], axis=1)"
   ]
  },
  {
   "cell_type": "code",
   "execution_count": 217,
   "metadata": {},
   "outputs": [
    {
     "data": {
      "text/plain": [
       "(14999, 16)"
      ]
     },
     "execution_count": 217,
     "metadata": {},
     "output_type": "execute_result"
    }
   ],
   "source": [
    "data.shape"
   ]
  },
  {
   "cell_type": "code",
   "execution_count": 218,
   "metadata": {},
   "outputs": [],
   "source": [
    "train, test = train_test_split(data, test_size=0.2)"
   ]
  },
  {
   "cell_type": "code",
   "execution_count": 219,
   "metadata": {},
   "outputs": [],
   "source": [
    "RFmodel = RandomForestRegressor(n_estimators = 100).fit(train.iloc[:,1:15], train.iloc[:,0])\n",
    "predictions_RF = RFmodel.predict(test.iloc[:,1:15])"
   ]
  },
  {
   "cell_type": "code",
   "execution_count": null,
   "metadata": {},
   "outputs": [],
   "source": [
    "for test data"
   ]
  },
  {
   "cell_type": "code",
   "execution_count": 230,
   "metadata": {},
   "outputs": [],
   "source": [
    "data = pd.read_csv(\"ad_org_test.csv\")"
   ]
  },
  {
   "cell_type": "code",
   "execution_count": null,
   "metadata": {},
   "outputs": [],
   "source": [
    "d1=pd.DataFrame(data['vidid'])"
   ]
  },
  {
   "cell_type": "code",
   "execution_count": 221,
   "metadata": {},
   "outputs": [],
   "source": [
    "data.views=pd.to_numeric(data.views,errors='coerce')\n",
    "data.likes=pd.to_numeric(data.likes,errors='coerce')\n",
    "data.dislikes=pd.to_numeric(data.dislikes,errors='coerce')\n",
    "data.comment=pd.to_numeric(data.comment,errors='coerce')\n",
    "data['category']=data['category'].astype('category')\n",
    "d1=data['published'].copy()\n",
    "for i in range (0,d1.shape[0]):\n",
    "    d1[i]=datetime.datetime.strptime(d1[i], '%Y-%m-%d').strftime('%d')\n",
    "data['day'] =d1   \n",
    "data['day']=data['day'].astype('category')\n",
    "\n",
    "d2=data['published'].copy()\n",
    "for i in range (0,d2.shape[0]):\n",
    "    d2[i]=datetime.datetime.strptime(d2[i], '%Y-%m-%d').strftime('%m')\n",
    "data['month'] =d2\n",
    "data['month']=data['month'].astype('category')\n",
    "\n",
    "d3=data['published'].copy()\n",
    "for i in range (0,d3.shape[0]):\n",
    "    d3[i]=datetime.datetime.strptime(d3[i], '%Y-%m-%d').strftime('%Y')\n",
    "data['year'] =d3\n",
    "data['year']=data['year'].astype('category')\n"
   ]
  },
  {
   "cell_type": "code",
   "execution_count": 222,
   "metadata": {},
   "outputs": [],
   "source": [
    "missing_val = pd.DataFrame(data.isnull().sum())"
   ]
  },
  {
   "cell_type": "code",
   "execution_count": 223,
   "metadata": {},
   "outputs": [
    {
     "data": {
      "text/html": [
       "<div>\n",
       "<style scoped>\n",
       "    .dataframe tbody tr th:only-of-type {\n",
       "        vertical-align: middle;\n",
       "    }\n",
       "\n",
       "    .dataframe tbody tr th {\n",
       "        vertical-align: top;\n",
       "    }\n",
       "\n",
       "    .dataframe thead th {\n",
       "        text-align: right;\n",
       "    }\n",
       "</style>\n",
       "<table border=\"1\" class=\"dataframe\">\n",
       "  <thead>\n",
       "    <tr style=\"text-align: right;\">\n",
       "      <th></th>\n",
       "      <th>0</th>\n",
       "    </tr>\n",
       "  </thead>\n",
       "  <tbody>\n",
       "    <tr>\n",
       "      <th>vidid</th>\n",
       "      <td>0</td>\n",
       "    </tr>\n",
       "    <tr>\n",
       "      <th>views</th>\n",
       "      <td>1</td>\n",
       "    </tr>\n",
       "    <tr>\n",
       "      <th>likes</th>\n",
       "      <td>88</td>\n",
       "    </tr>\n",
       "    <tr>\n",
       "      <th>dislikes</th>\n",
       "      <td>88</td>\n",
       "    </tr>\n",
       "    <tr>\n",
       "      <th>comment</th>\n",
       "      <td>151</td>\n",
       "    </tr>\n",
       "    <tr>\n",
       "      <th>published</th>\n",
       "      <td>0</td>\n",
       "    </tr>\n",
       "    <tr>\n",
       "      <th>duration</th>\n",
       "      <td>0</td>\n",
       "    </tr>\n",
       "    <tr>\n",
       "      <th>category</th>\n",
       "      <td>0</td>\n",
       "    </tr>\n",
       "    <tr>\n",
       "      <th>day</th>\n",
       "      <td>0</td>\n",
       "    </tr>\n",
       "    <tr>\n",
       "      <th>month</th>\n",
       "      <td>0</td>\n",
       "    </tr>\n",
       "    <tr>\n",
       "      <th>year</th>\n",
       "      <td>0</td>\n",
       "    </tr>\n",
       "  </tbody>\n",
       "</table>\n",
       "</div>"
      ],
      "text/plain": [
       "             0\n",
       "vidid        0\n",
       "views        1\n",
       "likes       88\n",
       "dislikes    88\n",
       "comment    151\n",
       "published    0\n",
       "duration     0\n",
       "category     0\n",
       "day          0\n",
       "month        0\n",
       "year         0"
      ]
     },
     "execution_count": 223,
     "metadata": {},
     "output_type": "execute_result"
    }
   ],
   "source": [
    "missing_val"
   ]
  },
  {
   "cell_type": "code",
   "execution_count": 224,
   "metadata": {},
   "outputs": [],
   "source": [
    "data = data.fillna(data.mean())\n"
   ]
  },
  {
   "cell_type": "code",
   "execution_count": 225,
   "metadata": {},
   "outputs": [
    {
     "name": "stdout",
     "output_type": "stream",
     "text": [
      "views\n",
      "likes\n",
      "dislikes\n",
      "comment\n"
     ]
    }
   ],
   "source": [
    "###normalization######\n",
    "cnames = [\"views\",\"likes\",\"dislikes\",\"comment\"]\n",
    "for i in cnames:\n",
    "    print(i)\n",
    "    data[i] = (data[i] - min(data[i]))/(max(data[i]) - min(data[i]))"
   ]
  },
  {
   "cell_type": "code",
   "execution_count": 226,
   "metadata": {},
   "outputs": [],
   "source": [
    "cat_names = [\"category\"]\n",
    "for i in cat_names:\n",
    "    temp = pd.get_dummies(data[i], prefix = i)\n",
    "    data = data.join(temp)\n"
   ]
  },
  {
   "cell_type": "code",
   "execution_count": 227,
   "metadata": {},
   "outputs": [],
   "source": [
    "data = data.drop(['vidid','published','duration','category'], axis=1)"
   ]
  },
  {
   "cell_type": "code",
   "execution_count": 228,
   "metadata": {},
   "outputs": [],
   "source": [
    "predictions_RF = RFmodel.predict(data.iloc[:,0:14])"
   ]
  },
  {
   "cell_type": "code",
   "execution_count": 236,
   "metadata": {},
   "outputs": [],
   "source": [
    "d1['ad_view']=predictions_RF"
   ]
  },
  {
   "cell_type": "code",
   "execution_count": 239,
   "metadata": {},
   "outputs": [],
   "source": [
    "d1['ad_view']=d1['ad_view'].astype('int')"
   ]
  },
  {
   "cell_type": "code",
   "execution_count": 241,
   "metadata": {},
   "outputs": [],
   "source": [
    "d1.to_csv(\"Output.csv\", index = False)"
   ]
  },
  {
   "cell_type": "code",
   "execution_count": null,
   "metadata": {},
   "outputs": [],
   "source": []
  }
 ],
 "metadata": {
  "kernelspec": {
   "display_name": "Python 3",
   "language": "python",
   "name": "python3"
  },
  "language_info": {
   "codemirror_mode": {
    "name": "ipython",
    "version": 3
   },
   "file_extension": ".py",
   "mimetype": "text/x-python",
   "name": "python",
   "nbconvert_exporter": "python",
   "pygments_lexer": "ipython3",
   "version": "3.6.5"
  }
 },
 "nbformat": 4,
 "nbformat_minor": 2
}
